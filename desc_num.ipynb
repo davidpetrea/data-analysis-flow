{
 "cells": [
  {
   "cell_type": "code",
   "execution_count": 23,
   "metadata": {},
   "outputs": [
    {
     "data": {
      "text/plain": [
       "<AxesSubplot:xlabel='price', ylabel='Count'>"
      ]
     },
     "execution_count": 23,
     "metadata": {},
     "output_type": "execute_result"
    },
    {
     "data": {
      "image/png": "[encoded data removed]",
      "text/plain": [
       "<Figure size 576x360 with 1 Axes>"
      ]
     },
     "metadata": {},
     "output_type": "display_data"
    }
   ],
   "source": [
    "import pandas as pd\n",
    "import numpy as np\n",
    "import seaborn as sns\n",
    "data = pd.read_excel('./Data/car_data_selection.xlsx')\n",
    "df = pd.DataFrame(data)\n",
    "#print(df)\n",
    "sns.set(style='whitegrid', palette=\"deep\", font_scale=1.1, rc={\"figure.figsize\": [8, 5]})\n",
    "\n",
    "numeric_variables = df[[\"price\",\"carwidth\",\"enginesize\",\"stroke\",\"compressionratio\",\"horsepower\",\"peakrpm\",\"boreratio\",\"curbweight\",\"highwaympg\",\"wheelbase\",\"carlength\",\"carheight\",\"citympg\"]]\n",
    "\n",
    "\n",
    "#Change this for variable specific graphs\n",
    "current_variable = 'price'\n",
    "\n",
    "#print(numeric_variables.describe())\n",
    "from scipy.stats import mode,skew,kurtosis,normaltest,kstest\n",
    "import numpy as np\n",
    "import scipy as sp\n",
    "import scipy.stats\n",
    "\n",
    "\n",
    "def confidence_interval(variable, confidence):\n",
    "    a = 1.0 * np.array(variable)\n",
    "    n = len(a)\n",
    "    mean = np.mean(a)\n",
    "    sem = scipy.stats.sem(a)\n",
    "    h = sem * sp.stats.t.ppf((1+confidence)/2., n-1)\n",
    "    return mean-h, mean+h\n",
    "\n",
    "def normal_test(variable, confidence):\n",
    "\n",
    "    from scipy.stats import normaltest, kstest\n",
    "    normal_test_result = normaltest(variable)\n",
    "    kstest_result = kstest(variable, 'norm')\n",
    "    \n",
    "    print(\"[Normality Test]\")\n",
    "    print('\\nStatistic: ', normal_test_result.statistic, '\\nP-Value: ', normal_test_result.pvalue)\n",
    "\n",
    "    if(normal_test_result.pvalue > confidence):\n",
    "        print('Normal Test pass:  ✅✅✅✅✅✅✅✅✅')\n",
    "     \n",
    "    else:\n",
    "        print('Normal Test pass:  ❌❌❌❌❌❌❌❌❌')\n",
    "     \n",
    "    print(\"\\n[KS Test]\")\n",
    "    print('Statistic: ', kstest_result.statistic, '\\nP-Value: ', kstest_result.pvalue)\n",
    "\n",
    "    if(kstest_result.pvalue > confidence):\n",
    "        print('KS Test pass:  ✅✅✅✅✅✅✅✅✅')\n",
    "    else:\n",
    "        print('KS Test pass:  ❌❌❌❌❌❌❌❌❌')\n",
    "\n",
    "\n",
    "def descriptive_numeric(variable):\n",
    "    modeResult = mode(variable)\n",
    "    normalTestResult = normaltest(variable)\n",
    "    KSTestResult = kstest(variable,'norm')\n",
    "    print(variable.describe())\n",
    "    print(\"[Mode]: The value \", modeResult.mode, ' appears ', modeResult.count, 'times.')\n",
    "    print(\"[Skewness]: \",skew(variable))\n",
    "    print(\"[Kurtosis]: \", kurtosis(variable))\n",
    "    normal_test(variable, 0.05)\n",
    "    print(\"\\n[Confidence Interval]: \",confidence_interval(variable, 0.95))\n",
    "\n",
    "\n",
    "#plots the current variable histaogram\n",
    "sns.histplot(data=numeric_variables, x=current_variable, kde=True)\n",
    "\n",
    "# for i in numeric_variables:\n",
    "#      print('#################### ' + i +'  ####################')\n",
    "#      descriptive_numeric(numeric_variables[i])\n",
    "#      #sns.distplot(numeric_variables[i],norm_hist=False, bins=20)\n",
    "    \n",
    "\n",
    "    \n",
    "\n",
    "\n",
    "#Pearson Correlation Matrix\n",
    "#numeric_variables.corr(method='pearson', min_periods=1)\n",
    "\n",
    "\n",
    "\n",
    "\n",
    "\n"
   ]
  }
 ],
 "metadata": {
  "interpreter": {
   "hash": "ac59ebe37160ed0dfa835113d9b8498d9f09ceb179beaac4002f036b9467c963"
  },
  "kernelspec": {
   "display_name": "Python 3.9.7 64-bit",
   "language": "python",
   "name": "python3"
  },
  "language_info": {
   "codemirror_mode": {
    "name": "ipython",
    "version": 3
   },
   "file_extension": ".py",
   "mimetype": "text/x-python",
   "name": "python",
   "nbconvert_exporter": "python",
   "pygments_lexer": "ipython3",
   "version": "3.9.7"
  },
  "orig_nbformat": 4
 },
 "nbformat": 4,
 "nbformat_minor": 2
}
