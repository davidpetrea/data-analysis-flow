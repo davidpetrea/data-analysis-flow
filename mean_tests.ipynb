{
 "cells": [
  {
   "cell_type": "code",
   "execution_count": 43,
   "metadata": {},
   "outputs": [
    {
     "name": "stdout",
     "output_type": "stream",
     "text": [
      "Ttest_1sampResult(statistic=0.20239904210495543, pvalue=0.8398482269390629)\n",
      "                sum_sq     df         F    PR(>F)\n",
      "carbody   2.000030e+08    4.0  2.538142  0.041942\n",
      "Residual  3.250457e+09  165.0       NaN       NaN\n"
     ]
    }
   ],
   "source": [
    "import pandas as pd\n",
    "import numpy as np\n",
    "from scipy import stats\n",
    "data = pd.read_excel('./Data/car_data_selection.xlsx')\n",
    "df = pd.DataFrame(data)\n",
    "\n",
    "#numeric_variables = df[[\"price\",\"carwidth\",\"enginesize\",\"stroke\",\"compressionratio\",\"horsepower\",\"peakrpm\",\"boreratio\",\"curbweight\",\"highwaympg\",\"wheelbase\",\"carlength\",\"carheight\",\"citympg\"]]\n",
    "price = df['price']\n",
    "\n",
    "\n",
    "\n",
    "#Testing mean of price with fixed value Mean=11700, Ex:11000\n",
    "print(stats.ttest_1samp(price, 11000))\n",
    "\n",
    "\n",
    "\n",
    "#Tests 2 means\n",
    "prices_std = df.loc[df['aspiration']=='std']\n",
    "prices_turbo = df.loc[df['aspiration']=='turbo']\n",
    "#print(prices_turbo)\n",
    "#print(stats.ttest_ind(prices_std.price,prices_turbo.price, equal_var=False))\n",
    "\n",
    "\n",
    "\n",
    "\n",
    "#Test multiple means / ANOVA\n",
    "import statsmodels.api as sm\n",
    "from statsmodels.formula.api import ols\n",
    "\n",
    "model = ols('price ~ carbody', data=df).fit()\n",
    "print(sm.stats.anova_lm(model, typ=2))\n"
   ]
  }
 ],
 "metadata": {
  "interpreter": {
   "hash": "ac59ebe37160ed0dfa835113d9b8498d9f09ceb179beaac4002f036b9467c963"
  },
  "kernelspec": {
   "display_name": "Python 3.9.7 64-bit",
   "language": "python",
   "name": "python3"
  },
  "language_info": {
   "codemirror_mode": {
    "name": "ipython",
    "version": 3
   },
   "file_extension": ".py",
   "mimetype": "text/x-python",
   "name": "python",
   "nbconvert_exporter": "python",
   "pygments_lexer": "ipython3",
   "version": "3.9.7"
  },
  "orig_nbformat": 4
 },
 "nbformat": 4,
 "nbformat_minor": 2
}
