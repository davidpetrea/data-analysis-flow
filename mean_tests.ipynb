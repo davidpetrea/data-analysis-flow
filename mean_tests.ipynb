{
 "cells": [
  {
   "cell_type": "code",
   "execution_count": 1,
   "metadata": {},
   "outputs": [
    {
     "name": "stdout",
     "output_type": "stream",
     "text": [
      "\n",
      "[Confidence Interval]:  (10433.256488303627, 11807.950143275319)\n",
      "Ttest_1sampResult(statistic=0.34636511124129626, pvalue=0.729496659942038)\n",
      "Ttest_indResult(statistic=0.5018011334853735, pvalue=0.618384886529637)\n",
      "                sum_sq     df         F    PR(>F)\n",
      "carbody   1.806167e+08    4.0  2.241596  0.066709\n",
      "Residual  3.343865e+09  166.0       NaN       NaN\n"
     ]
    }
   ],
   "source": [
    "import pandas as pd\n",
    "import numpy as np\n",
    "from scipy import stats\n",
    "df = pd.read_excel('./Data/car_data_selection.xlsx') #change to car_data_clean\n",
    "\n",
    "def confidence_interval(variable, confidence):\n",
    "    import scipy as sp\n",
    "    a = 1.0 * np.array(variable)\n",
    "    n = len(a)\n",
    "    mean = np.mean(a)\n",
    "    sem = stats.sem(a)\n",
    "    h = sem * stats.t.ppf((1+confidence)/2., n-1)\n",
    "    return mean-h, mean+h\n",
    "\n",
    "print(\"\\n[Confidence Interval]: \",confidence_interval(df['price'], 0.95))\n",
    "\n",
    "price = df['price']\n",
    "#Testing mean of price with fixed value\n",
    "print(stats.ttest_1samp(price, 11000))\n",
    "\n",
    "#Tests if mean price of sedans is equal to the mean price of wagons\n",
    "prices_sedan = df.loc[df['carbody']=='sedan']\n",
    "prices_wagon = df.loc[df['carbody']=='wagon']\n",
    "\n",
    "print(stats.ttest_ind(prices_sedan.price,prices_wagon.price, equal_var=False))\n",
    "\n",
    "#Test multiple means / ANOVA\n",
    "import statsmodels.api as sm\n",
    "from statsmodels.formula.api import ols\n",
    "\n",
    "model = ols('price ~ carbody', data=df).fit()\n",
    "print(sm.stats.anova_lm(model, typ=2))\n"
   ]
  }
 ],
 "metadata": {
  "interpreter": {
   "hash": "ac59ebe37160ed0dfa835113d9b8498d9f09ceb179beaac4002f036b9467c963"
  },
  "kernelspec": {
   "display_name": "Python 3.9.7 64-bit",
   "language": "python",
   "name": "python3"
  },
  "language_info": {
   "codemirror_mode": {
    "name": "ipython",
    "version": 3
   },
   "file_extension": ".py",
   "mimetype": "text/x-python",
   "name": "python",
   "nbconvert_exporter": "python",
   "pygments_lexer": "ipython3",
   "version": "3.9.7"
  },
  "orig_nbformat": 4
 },
 "nbformat": 4,
 "nbformat_minor": 2
}
