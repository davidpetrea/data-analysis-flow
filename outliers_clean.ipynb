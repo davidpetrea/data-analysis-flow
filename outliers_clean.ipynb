{
 "cells": [
  {
   "cell_type": "code",
   "execution_count": 3,
   "metadata": {},
   "outputs": [],
   "source": [
    "#Function that returns True if variable is normally distributed, False if it is skewed. Takes in a dataframe, the target variable and the confidence value NOTE: Uses KS Test\n",
    "def is_normally_distributed(df,variable, confidence):\n",
    "    from scipy.stats import normaltest\n",
    "    result = normaltest(df[variable])\n",
    "    if(result.pvalue < confidence): return False\n",
    "    else: return True\n",
    "\n",
    "#Function that returns a new df without the outliers based on 2 values: upper and lower limits. Takes in a dataframe, the target variable, upper and lower limit  NOTE: You can get the limits by using get_outliers_limits function\n",
    "def trim_outliers(df,variable, upper,lower):\n",
    "    new_df = df[(df[variable]<upper) & (df[variable] > lower)]\n",
    "    return new_df\n",
    "\n",
    "#Function that returns the upper and lower limit depending on the distribution of the variable\n",
    "def get_outliers_limits(df,variable,isNormal=True):\n",
    "        if(isNormal):\n",
    "            #If variable is normally distributed, find the upper and lower limits using the emipirical relations of normal distribution [mean-3*sigma, mean+3*sigma]\n",
    "            print('Normal Distribution:')\n",
    "            upper_limit = df[variable].mean() + 3*df['horsepower'].std()\n",
    "            lower_limit = df[variable].mean() - 3*df['horsepower'].std()\n",
    "        else:\n",
    "             #If variable is skewed, find the upper and lower limits using IQR [Q1 – 1.5 IQR, Q3 + 1.5 IQR ]\n",
    "            print('Skewed Distribution:')    \n",
    "            percentile25 = df[variable].quantile(0.25)\n",
    "            percentile75 = df[variable].quantile(0.75)\n",
    "\n",
    "            from scipy.stats import iqr\n",
    "            iqr = iqr(selection_df[variable])\n",
    "\n",
    "            upper_limit = percentile75 + 1.5 * iqr\n",
    "            lower_limit = percentile25 - 1.5 * iqr\n",
    "        \n",
    "        #Get the outliers based on the upper and lower limits\n",
    "        high_outliers = df[df[variable] > upper_limit]\n",
    "        low_outliers = df[df[variable] < lower_limit]\n",
    "\n",
    "        #If there are no outliers found, print message. Else, print the outliers\n",
    "        if(not(high_outliers.empty)):\n",
    "            high_outliers=high_outliers[variable]\n",
    "        else:\n",
    "            high_outliers = 'No high outliers found.'\n",
    "         #If there are no outliers found, print message. Else, print the outliers\n",
    "        if(not(low_outliers.empty)):\n",
    "            low_outliers=low_outliers[variable]\n",
    "        else:\n",
    "            low_outliers = 'No low outliers found.'\n",
    "\n",
    "        class Result:\n",
    "            def __init__(self):\n",
    "                self.upper_limit = upper_limit\n",
    "                self.lower_limit = lower_limit\n",
    "                self.high_outliers = high_outliers\n",
    "                self.low_outliers = low_outliers\n",
    "\n",
    "        return Result()\n",
    "   "
   ]
  },
  {
   "cell_type": "code",
   "execution_count": 8,
   "metadata": {},
   "outputs": [
    {
     "name": "stdout",
     "output_type": "stream",
     "text": [
      "Skewed Distribution:\n",
      "Upper Limit:  27894.0\n",
      "Lower limit:  -4530.0\n",
      "Outliers: \n",
      " ----------------\n",
      " High:\n",
      " 15     30760.0\n",
      "16     41315.0\n",
      "17     36880.0\n",
      "47     32250.0\n",
      "48     35550.0\n",
      "49     36000.0\n",
      "65     34184.0\n",
      "66     35056.0\n",
      "67     40960.0\n",
      "68     45400.0\n",
      "114    31400.5\n",
      "Name: price, dtype: float64 \n",
      "----------------\n",
      " Low:\n",
      " No low outliers found.\n"
     ]
    },
    {
     "data": {
      "image/png": "[encoded data removed]",
      "text/plain": [
       "<Figure size 1152x360 with 2 Axes>"
      ]
     },
     "metadata": {
      "needs_background": "light"
     },
     "output_type": "display_data"
    },
    {
     "data": {
      "image/png": "[encoded data removed]",
      "text/plain": [
       "<Figure size 1152x360 with 2 Axes>"
      ]
     },
     "metadata": {
      "needs_background": "light"
     },
     "output_type": "display_data"
    }
   ],
   "source": [
    "import pandas as pd\n",
    "import matplotlib.pyplot as plt\n",
    "import seaborn as sns\n",
    "import numpy as np\n",
    "\n",
    "selection_df = pd.read_excel('./Data/car_data_selection.xlsx')\n",
    "\n",
    "#Set the confidence value, used for testing if variable is normally distributed\n",
    "confidence = 0.05\n",
    "#Set the variable for which the operations below are executed\n",
    "current_variable = 'price'\n",
    "#Check if the variable is normally distributed. If the distribution is skewed, isNormal is set to False. \n",
    "isNormal = is_normally_distributed(selection_df, current_variable, confidence)\n",
    "\n",
    "#Gets the limits and outliers, if any are found\n",
    "result = get_outliers_limits(selection_df,current_variable, isNormal)\n",
    "\n",
    "print(\"Upper Limit: \",result.upper_limit)\n",
    "print(\"Lower limit: \", result.lower_limit)\n",
    "print(\"Outliers: \\n\",\"----------------\\n\", \"High:\\n\", result.high_outliers, \"\\n----------------\\n\", \"Low:\\n\", result.low_outliers)\n",
    "\n",
    "#NOTE: if clean_active is set to True, found outliers will be trimmed based on the found limits\n",
    "clean_active = True\n",
    "\n",
    "if(clean_active):\n",
    "    clean_df = trim_outliers(selection_df, current_variable, result.upper_limit, result.lower_limit)\n",
    "\n",
    "#Plots the distribution of the current_variable \n",
    "plt.figure(figsize=(16,5))\n",
    "\n",
    "plt.subplot(1,2,1)\n",
    "plt.title(current_variable +' histogram with outliers')\n",
    "sns.histplot(data=selection_df, x=current_variable)\n",
    "\n",
    "plt.subplot(1,2,2)\n",
    "plt.title(current_variable +' boxplot with outliers')\n",
    "sns.boxplot(x=selection_df[current_variable],palette=(\"magma\"))\n",
    "\n",
    "plt.show()\n",
    "\n",
    "#Plots the distribution of the current_variable after outliers were removed\n",
    "if(clean_active):\n",
    "    plt.figure(figsize=(16,5))\n",
    "\n",
    "    plt.subplot(1,2,1)\n",
    "    plt.title(current_variable +' histogram without outliers')\n",
    "    sns.histplot(data=clean_df, x=current_variable)\n",
    "\n",
    "    plt.subplot(1,2,2)\n",
    "    plt.title(current_variable +' boxplot without outliers')\n",
    "    sns.boxplot(x=clean_df[current_variable],palette=(\"magma\"))\n",
    "\n",
    "    plt.show()\n",
    "\n",
    "#Export the clean_df after outliers were removed\n",
    "clean_df.to_excel('./Data/car_data_clean.xlsx', index=False)\n",
    "\n",
    "#Rewrite the selection with the outliers removed\n",
    "clean_df.to_excel('./Data/car_data_selection.xlsx', index=False)\n",
    "\n",
    "\n",
    "\n",
    "\n",
    "\n",
    "\n"
   ]
  }
 ],
 "metadata": {
  "interpreter": {
   "hash": "ac59ebe37160ed0dfa835113d9b8498d9f09ceb179beaac4002f036b9467c963"
  },
  "kernelspec": {
   "display_name": "Python 3.9.7 64-bit",
   "language": "python",
   "name": "python3"
  },
  "language_info": {
   "codemirror_mode": {
    "name": "ipython",
    "version": 3
   },
   "file_extension": ".py",
   "mimetype": "text/x-python",
   "name": "python",
   "nbconvert_exporter": "python",
   "pygments_lexer": "ipython3",
   "version": "3.9.7"
  },
  "orig_nbformat": 4
 },
 "nbformat": 4,
 "nbformat_minor": 2
}
