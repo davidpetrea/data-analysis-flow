{
 "cells": [
  {
   "cell_type": "code",
   "execution_count": 1,
   "metadata": {},
   "outputs": [
    {
     "name": "stdout",
     "output_type": "stream",
     "text": [
      "Q1    54\n",
      "Q2    51\n",
      "Q3    49\n",
      "Q4    36\n",
      "Q5    14\n",
      "Name: categoryHP, dtype: int64\n"
     ]
    }
   ],
   "source": [
    "import pandas as pd\n",
    "data = pd.read_excel('./Data/car_data.xlsx')\n",
    "df = pd.DataFrame(data)\n",
    "\n",
    "bins = [48,70,95,116,170,288]\n",
    "groupNames = ['Q1','Q2','Q3','Q4','Q5']\n",
    "\n",
    "categories = pd.cut(df['horsepower'], bins, labels=groupNames)\n",
    "df['categoryHP'] = pd.cut(df['horsepower'],bins, labels= groupNames)\n",
    "\n",
    "print(pd.value_counts(df['categoryHP']))\n",
    "\n",
    "df.to_excel('./Data/car_data_custom.xlsx', index= False)\n",
    "\n"
   ]
  }
 ],
 "metadata": {
  "interpreter": {
   "hash": "ac59ebe37160ed0dfa835113d9b8498d9f09ceb179beaac4002f036b9467c963"
  },
  "kernelspec": {
   "display_name": "Python 3.9.7 64-bit",
   "language": "python",
   "name": "python3"
  },
  "language_info": {
   "codemirror_mode": {
    "name": "ipython",
    "version": 3
   },
   "file_extension": ".py",
   "mimetype": "text/x-python",
   "name": "python",
   "nbconvert_exporter": "python",
   "pygments_lexer": "ipython3",
   "version": "3.9.7"
  },
  "orig_nbformat": 4
 },
 "nbformat": 4,
 "nbformat_minor": 2
}
