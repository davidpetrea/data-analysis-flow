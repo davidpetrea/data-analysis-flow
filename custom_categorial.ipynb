{
 "cells": [
  {
   "cell_type": "code",
   "execution_count": 3,
   "metadata": {},
   "outputs": [
    {
     "name": "stdout",
     "output_type": "stream",
     "text": [
      "short     72\n",
      "long      67\n",
      "medium    66\n",
      "Name: carlength, dtype: int64\n",
      "<class 'pandas.core.frame.DataFrame'>\n",
      "RangeIndex: 205 entries, 0 to 204\n",
      "Data columns (total 21 columns):\n",
      " #   Column            Non-Null Count  Dtype   \n",
      "---  ------            --------------  -----   \n",
      " 0   symboling         205 non-null    int64   \n",
      " 1   CarName           205 non-null    object  \n",
      " 2   fueltype          205 non-null    object  \n",
      " 3   aspiration        205 non-null    object  \n",
      " 4   carbody           205 non-null    object  \n",
      " 5   enginelocation    205 non-null    object  \n",
      " 6   wheelbase         205 non-null    float64 \n",
      " 7   carlength         205 non-null    category\n",
      " 8   carwidth          205 non-null    float64 \n",
      " 9   carheight         205 non-null    float64 \n",
      " 10  curbweight        205 non-null    int64   \n",
      " 11  cylindernumber    205 non-null    object  \n",
      " 12  enginesize        205 non-null    int64   \n",
      " 13  boreratio         205 non-null    float64 \n",
      " 14  stroke            205 non-null    float64 \n",
      " 15  compressionratio  205 non-null    float64 \n",
      " 16  horsepower        205 non-null    int64   \n",
      " 17  peakrpm           205 non-null    int64   \n",
      " 18  citympg           205 non-null    int64   \n",
      " 19  highwaympg        205 non-null    int64   \n",
      " 20  price             205 non-null    float64 \n",
      "dtypes: category(1), float64(7), int64(7), object(6)\n",
      "memory usage: 32.5+ KB\n"
     ]
    }
   ],
   "source": [
    "import pandas as pd\n",
    "df = pd.read_excel('./Data/car_data.xlsx')\n",
    "\n",
    "bins = [140, 169 ,177, 209]\n",
    "groupNames = ['short', 'medium','long']\n",
    "\n",
    "df['carlength'] = pd.cut(df['carlength'],bins, labels= groupNames)\n",
    "print(pd.value_counts(df['carlength']))\n",
    "\n",
    "\n",
    "df.to_excel('./Data/car_data_custom.xlsx', index= False)\n",
    "\n",
    "\n",
    "\n"
   ]
  }
 ],
 "metadata": {
  "interpreter": {
   "hash": "ac59ebe37160ed0dfa835113d9b8498d9f09ceb179beaac4002f036b9467c963"
  },
  "kernelspec": {
   "display_name": "Python 3.9.7 64-bit",
   "language": "python",
   "name": "python3"
  },
  "language_info": {
   "codemirror_mode": {
    "name": "ipython",
    "version": 3
   },
   "file_extension": ".py",
   "mimetype": "text/x-python",
   "name": "python",
   "nbconvert_exporter": "python",
   "pygments_lexer": "ipython3",
   "version": "3.9.7"
  },
  "orig_nbformat": 4
 },
 "nbformat": 4,
 "nbformat_minor": 2
}
